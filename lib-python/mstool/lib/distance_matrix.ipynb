{
 "cells": [
  {
   "cell_type": "code",
   "execution_count": 1,
   "id": "fedfcbaf",
   "metadata": {},
   "outputs": [],
   "source": [
    "%load_ext Cython"
   ]
  },
  {
   "cell_type": "code",
   "execution_count": 2,
   "id": "42296094",
   "metadata": {},
   "outputs": [],
   "source": [
    "import scipy"
   ]
  },
  {
   "cell_type": "code",
   "execution_count": 4,
   "id": "1a09365b",
   "metadata": {},
   "outputs": [],
   "source": [
    "%%cython\n",
    "\n",
    "import   numpy as np\n",
    "cimport  numpy\n",
    "cimport  cython\n",
    "from libc.math cimport round as cround\n",
    "\n",
    "ctypedef numpy.float64_t DTYPE_t\n",
    "# https://cython-docs2.readthedocs.io/en/latest/src/tutorial/numpy.html\n",
    "\n",
    "@cython.boundscheck(False) # turn off bounds-checking for entire function\n",
    "@cython.wraparound(False)  # turn off negative index wrapping for entire function\n",
    "def distance_matrix(numpy.ndarray[DTYPE_t, ndim=2] pos1,\n",
    "                    numpy.ndarray[DTYPE_t, ndim=2] pos2,\n",
    "                    numpy.ndarray[DTYPE_t, ndim=1] dimensions,\n",
    "                    bint pbc):\n",
    "    \n",
    "    # Py_ssize_t is a signed integer type provided by Python \n",
    "    # which covers the same range of values as is supported as NumPy array indices. \n",
    "    # It is the preferred type to use for loops over arrays.\n",
    "    \n",
    "    cdef Py_ssize_t x_max = pos1.shape[0]\n",
    "    cdef Py_ssize_t y_max = pos2.shape[0]\n",
    "    cdef Py_ssize_t x = 0\n",
    "    cdef Py_ssize_t y = 0\n",
    "    cdef Py_ssize_t i = 0\n",
    "    cdef double    dx = 0\n",
    "    cdef double    dy = 0\n",
    "    cdef double    dz = 0\n",
    "    cdef double   ddx = 0\n",
    "    cdef double   ddy = 0\n",
    "    cdef double   ddz = 0\n",
    "    \n",
    "    cdef numpy.ndarray[DTYPE_t, ndim=2] result = np.zeros([x_max, y_max], dtype=np.float64)\n",
    "    \n",
    "    cdef DTYPE_t value\n",
    "    for x in range(x_max):\n",
    "        for y in range(y_max):\n",
    "\n",
    "            dx = pos1[x,0] - pos2[y,0]\n",
    "            dy = pos1[x,1] - pos2[y,1]\n",
    "            dz = pos1[x,2] - pos2[y,2]\n",
    "            \n",
    "            if pbc:\n",
    "                ddx = dimensions[0] * cround(dx/dimensions[0])\n",
    "                ddy = dimensions[1] * cround(dy/dimensions[1])\n",
    "                ddz = dimensions[2] * cround(dz/dimensions[2])\n",
    "                \n",
    "            dx -= ddx\n",
    "            dy -= ddy\n",
    "            dz -= ddz\n",
    "\n",
    "            value = (dx**2 + dy**2 + dz**2) ** 0.5\n",
    "            result[x, y] = value\n",
    "            \n",
    "    return result"
   ]
  },
  {
   "cell_type": "code",
   "execution_count": 5,
   "id": "569afc38",
   "metadata": {},
   "outputs": [],
   "source": [
    "a = np.random.rand(1000, 3)\n",
    "dim = np.array([1000.0, 1000.0, 10000.0])"
   ]
  },
  {
   "cell_type": "code",
   "execution_count": 7,
   "id": "e853aff8",
   "metadata": {},
   "outputs": [
    {
     "name": "stdout",
     "output_type": "stream",
     "text": [
      "1.84 ms ± 10.1 µs per loop (mean ± std. dev. of 7 runs, 1,000 loops each)\n"
     ]
    }
   ],
   "source": [
    "%timeit distance_matrix(a, a, dim, False)"
   ]
  },
  {
   "cell_type": "code",
   "execution_count": 8,
   "id": "7b568d3b",
   "metadata": {},
   "outputs": [
    {
     "name": "stdout",
     "output_type": "stream",
     "text": [
      "8.67 ms ± 16.6 µs per loop (mean ± std. dev. of 7 runs, 100 loops each)\n"
     ]
    }
   ],
   "source": [
    "%timeit distance_matrix(a, a, dim, True)"
   ]
  },
  {
   "cell_type": "code",
   "execution_count": 9,
   "id": "2a21f116",
   "metadata": {},
   "outputs": [
    {
     "name": "stdout",
     "output_type": "stream",
     "text": [
      "30.9 ms ± 267 µs per loop (mean ± std. dev. of 7 runs, 10 loops each)\n"
     ]
    }
   ],
   "source": [
    "%timeit scipy.spatial.distance_matrix(a, a)"
   ]
  },
  {
   "cell_type": "code",
   "execution_count": null,
   "id": "e0587168",
   "metadata": {},
   "outputs": [],
   "source": []
  }
 ],
 "metadata": {
  "kernelspec": {
   "display_name": "Python 3 (ipykernel)",
   "language": "python",
   "name": "python3"
  },
  "language_info": {
   "codemirror_mode": {
    "name": "ipython",
    "version": 3
   },
   "file_extension": ".py",
   "mimetype": "text/x-python",
   "name": "python",
   "nbconvert_exporter": "python",
   "pygments_lexer": "ipython3",
   "version": "3.9.12"
  }
 },
 "nbformat": 4,
 "nbformat_minor": 5
}
